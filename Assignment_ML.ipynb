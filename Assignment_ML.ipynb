{
 "cells": [
  {
   "cell_type": "code",
   "execution_count": 1,
   "id": "18ba1f44",
   "metadata": {},
   "outputs": [],
   "source": [
    "import datetime\n",
    "import pandas as pd\n",
    "import numpy as np\n",
    "import matplotlib.pyplot as plt\n",
    "import math\n",
    "\n",
    "from sklearn.linear_model import LinearRegression\n",
    "from sklearn import metrics\n",
    "\n",
    "from sklearn.pipeline import Pipeline\n",
    "from sklearn.preprocessing import PolynomialFeatures\n",
    "from sklearn.linear_model import LinearRegression\n",
    "from sklearn.model_selection import cross_val_score\n",
    "\n",
    "from sklearn.linear_model import Lasso, Ridge\n",
    "import seaborn as sns"
   ]
  },
  {
   "cell_type": "code",
   "execution_count": 2,
   "id": "ccffdca3",
   "metadata": {},
   "outputs": [],
   "source": [
    "data=pd.read_csv('flight_delay.csv')\n"
   ]
  },
  {
   "cell_type": "markdown",
   "id": "80662a9e",
   "metadata": {},
   "source": [
    "# Airports One-Hot-Encoding"
   ]
  },
  {
   "cell_type": "code",
   "execution_count": null,
   "id": "19b18003",
   "metadata": {},
   "outputs": [],
   "source": []
  },
  {
   "cell_type": "code",
   "execution_count": 4,
   "id": "bcb09a73",
   "metadata": {},
   "outputs": [],
   "source": [
    "data['way']=data['Depature Airport']+'-'+data['Destination Airport']"
   ]
  },
  {
   "cell_type": "code",
   "execution_count": null,
   "id": "98224a10",
   "metadata": {
    "scrolled": true
   },
   "outputs": [],
   "source": []
  },
  {
   "cell_type": "code",
   "execution_count": 5,
   "id": "8f29057d",
   "metadata": {},
   "outputs": [],
   "source": [
    "airports_way_dict={}\n",
    "count=101\n",
    "for i in data['way']:\n",
    "    if i in airports_way_dict.keys():\n",
    "        pass\n",
    "    else:\n",
    "        airports_way_dict[i]=count\n",
    "        count+=1"
   ]
  },
  {
   "cell_type": "code",
   "execution_count": 6,
   "id": "c5ebf113",
   "metadata": {},
   "outputs": [],
   "source": [
    "dict_for_repalce_way={'way': airports_way_dict}"
   ]
  },
  {
   "cell_type": "code",
   "execution_count": 7,
   "id": "de621b13",
   "metadata": {},
   "outputs": [],
   "source": [
    "data=data.replace(dict_for_repalce_way)"
   ]
  },
  {
   "cell_type": "code",
   "execution_count": null,
   "id": "24e60eef",
   "metadata": {},
   "outputs": [],
   "source": []
  },
  {
   "cell_type": "code",
   "execution_count": 9,
   "id": "649e0efa",
   "metadata": {},
   "outputs": [],
   "source": [
    "#len(data['Depature Airport'].unique()) # Output is '179'"
   ]
  },
  {
   "cell_type": "code",
   "execution_count": 10,
   "id": "da77dec1",
   "metadata": {},
   "outputs": [],
   "source": [
    "airports_dict={}\n",
    "count=1\n",
    "for i in data['Depature Airport']:\n",
    "    if i in airports_dict.keys():\n",
    "        pass\n",
    "    else:\n",
    "        airports_dict[i]=count\n",
    "        count+=1"
   ]
  },
  {
   "cell_type": "code",
   "execution_count": null,
   "id": "ff72cc31",
   "metadata": {},
   "outputs": [],
   "source": []
  },
  {
   "cell_type": "code",
   "execution_count": 11,
   "id": "03332e7a",
   "metadata": {},
   "outputs": [],
   "source": [
    "dict_for_repalce={'Depature Airport': airports_dict}"
   ]
  },
  {
   "cell_type": "code",
   "execution_count": 12,
   "id": "e7b4cb94",
   "metadata": {},
   "outputs": [],
   "source": [
    "data=data.replace(dict_for_repalce)"
   ]
  },
  {
   "cell_type": "code",
   "execution_count": null,
   "id": "be9c11c9",
   "metadata": {},
   "outputs": [],
   "source": []
  },
  {
   "cell_type": "code",
   "execution_count": 13,
   "id": "2f09364f",
   "metadata": {},
   "outputs": [],
   "source": [
    "airports_dict['DME']=180"
   ]
  },
  {
   "cell_type": "code",
   "execution_count": 14,
   "id": "2d8ef934",
   "metadata": {},
   "outputs": [],
   "source": [
    "dict_for_repalce={'Destination Airport': airports_dict}"
   ]
  },
  {
   "cell_type": "code",
   "execution_count": 15,
   "id": "c81d6492",
   "metadata": {},
   "outputs": [],
   "source": [
    "data=data.replace(dict_for_repalce)"
   ]
  },
  {
   "cell_type": "code",
   "execution_count": null,
   "id": "f79d1747",
   "metadata": {},
   "outputs": [],
   "source": []
  },
  {
   "cell_type": "code",
   "execution_count": null,
   "id": "2590a043",
   "metadata": {},
   "outputs": [],
   "source": []
  },
  {
   "cell_type": "markdown",
   "id": "6e2f07ae",
   "metadata": {},
   "source": [
    "# Flight duration in minutes"
   ]
  },
  {
   "cell_type": "code",
   "execution_count": 16,
   "id": "9f264332",
   "metadata": {},
   "outputs": [],
   "source": [
    "data['Dep_datetime'] = pd.to_datetime(data['Scheduled depature time'])"
   ]
  },
  {
   "cell_type": "code",
   "execution_count": 17,
   "id": "52dfe954",
   "metadata": {},
   "outputs": [],
   "source": [
    "data['Arrival_datetime']= pd.to_datetime(data['Scheduled arrival time'])"
   ]
  },
  {
   "cell_type": "code",
   "execution_count": 18,
   "id": "66961e0a",
   "metadata": {},
   "outputs": [],
   "source": [
    "q=data['Arrival_datetime']-data['Dep_datetime']"
   ]
  },
  {
   "cell_type": "code",
   "execution_count": null,
   "id": "ef4e8520",
   "metadata": {},
   "outputs": [],
   "source": []
  },
  {
   "cell_type": "code",
   "execution_count": 19,
   "id": "3f796dc7",
   "metadata": {},
   "outputs": [],
   "source": [
    "data['flight duration'] = q.dt.total_seconds().div(60).astype(int)"
   ]
  },
  {
   "cell_type": "code",
   "execution_count": null,
   "id": "8b928f6c",
   "metadata": {},
   "outputs": [],
   "source": []
  },
  {
   "cell_type": "markdown",
   "id": "45bd85da",
   "metadata": {},
   "source": [
    "# Departure day of week  "
   ]
  },
  {
   "cell_type": "code",
   "execution_count": 20,
   "id": "0bec67cf",
   "metadata": {},
   "outputs": [],
   "source": [
    "temp_arr=[]\n",
    "def date_info(dt):\n",
    "    \n",
    "    year, month, day = (int(x) for x in dt.split('-'))  \n",
    "    ans = datetime.date(year, month, day)\n",
    "    temp_arr.append(ans.strftime(\"%A\"))\n",
    "for i in data['Dep_datetime']:\n",
    "    i=str(i)\n",
    "    date_info(i.split(' ')[0])"
   ]
  },
  {
   "cell_type": "code",
   "execution_count": 21,
   "id": "53d7e7c0",
   "metadata": {},
   "outputs": [],
   "source": [
    "data['day of week']=pd.DataFrame(temp_arr)"
   ]
  },
  {
   "cell_type": "code",
   "execution_count": null,
   "id": "bb692f60",
   "metadata": {
    "scrolled": true
   },
   "outputs": [],
   "source": []
  },
  {
   "cell_type": "code",
   "execution_count": 22,
   "id": "2c35da14",
   "metadata": {},
   "outputs": [],
   "source": [
    "days={'Monday':1,'Tuesday':2,'Wednesday':3,'Thursday':4,'Friday':5,'Saturday':6,'Sunday':7}"
   ]
  },
  {
   "cell_type": "code",
   "execution_count": 23,
   "id": "65fa4c66",
   "metadata": {},
   "outputs": [],
   "source": [
    "day_of_week={'day of week':days}"
   ]
  },
  {
   "cell_type": "code",
   "execution_count": 24,
   "id": "5f36df08",
   "metadata": {},
   "outputs": [],
   "source": [
    "data=data.replace(day_of_week)"
   ]
  },
  {
   "cell_type": "code",
   "execution_count": null,
   "id": "53d3d37a",
   "metadata": {},
   "outputs": [],
   "source": []
  },
  {
   "cell_type": "code",
   "execution_count": 25,
   "id": "99cab9b7",
   "metadata": {},
   "outputs": [],
   "source": [
    "day_or_night=[]\n",
    "for i in data['Dep_datetime']:\n",
    "    if 5<int(str(i).split(' ')[1].split(':')[0])<22:\n",
    "        day_or_night.append(1)\n",
    "    else:\n",
    "        day_or_night.append(0)"
   ]
  },
  {
   "cell_type": "code",
   "execution_count": 26,
   "id": "0ebb3e0d",
   "metadata": {},
   "outputs": [],
   "source": [
    "data['daytime']=pd.DataFrame(day_or_night)"
   ]
  },
  {
   "cell_type": "markdown",
   "id": "d23e6f90",
   "metadata": {},
   "source": [
    "# SEASON"
   ]
  },
  {
   "cell_type": "code",
   "execution_count": 27,
   "id": "ecae08d6",
   "metadata": {},
   "outputs": [],
   "source": [
    "months=[]\n",
    "for i in data['Scheduled depature time']: \n",
    "    if int(str(i).split(' ')[0].split('-')[1])==12 or int(str(i).split(' ')[0].split('-')[1])<=2:\n",
    "        months.append(1) # Winter\n",
    "    elif 3<=int(str(i).split(' ')[0].split('-')[1])<=5:\n",
    "        months.append(2) # Spring\n",
    "    elif 6<=int(str(i).split(' ')[0].split('-')[1])<=8:\n",
    "        months.append(3) # Summer\n",
    "    elif 9<=int(str(i).split(' ')[0].split('-')[1])<=11:\n",
    "        months.append(4) # Fall\n",
    "\n",
    "data['season']=pd.DataFrame(months)"
   ]
  },
  {
   "cell_type": "markdown",
   "id": "4b46c550",
   "metadata": {},
   "source": [
    "# Years"
   ]
  },
  {
   "cell_type": "code",
   "execution_count": 28,
   "id": "fc074812",
   "metadata": {},
   "outputs": [],
   "source": [
    "years=[]\n",
    "for i in data['Scheduled depature time']:\n",
    "    years.append(i.split(' ')[0].split('-')[0])\n",
    "data['years']=pd.DataFrame(years)"
   ]
  },
  {
   "cell_type": "code",
   "execution_count": null,
   "id": "9781e6ef",
   "metadata": {},
   "outputs": [],
   "source": []
  },
  {
   "cell_type": "code",
   "execution_count": null,
   "id": "6ef23fe7",
   "metadata": {},
   "outputs": [],
   "source": []
  },
  {
   "cell_type": "markdown",
   "id": "e0e62fac",
   "metadata": {},
   "source": [
    "# Drop columns"
   ]
  },
  {
   "cell_type": "code",
   "execution_count": 29,
   "id": "ed571c87",
   "metadata": {},
   "outputs": [],
   "source": [
    "data=data.drop(columns=['Scheduled depature time','Scheduled arrival time','Dep_datetime','Arrival_datetime'])"
   ]
  },
  {
   "cell_type": "code",
   "execution_count": 30,
   "id": "74eb2b88",
   "metadata": {},
   "outputs": [],
   "source": [
    "X=data.drop(columns='Delay')"
   ]
  },
  {
   "cell_type": "code",
   "execution_count": 31,
   "id": "f070e1e1",
   "metadata": {},
   "outputs": [
    {
     "data": {
      "text/plain": [
       "<seaborn.axisgrid.PairGrid at 0x2b283740d60>"
      ]
     },
     "execution_count": 31,
     "metadata": {},
     "output_type": "execute_result"
    },
    {
     "data": {
      "image/png": "[encoded data removed]",
      "text/plain": [
       "<Figure size 540x540 with 12 Axes>"
      ]
     },
     "metadata": {
      "needs_background": "light"
     },
     "output_type": "display_data"
    }
   ],
   "source": [
    "sns.pairplot(data[['Delay','season','day of week']])"
   ]
  },
  {
   "cell_type": "code",
   "execution_count": null,
   "id": "55325675",
   "metadata": {},
   "outputs": [],
   "source": []
  },
  {
   "cell_type": "code",
   "execution_count": 34,
   "id": "0fc32ec6",
   "metadata": {},
   "outputs": [
    {
     "data": {
      "text/plain": [
       "Text(0.5, 0, 'Flight Duration')"
      ]
     },
     "execution_count": 34,
     "metadata": {},
     "output_type": "execute_result"
    },
    {
     "data": {
      "image/png": "[encoded data removed]",
      "text/plain": [
       "<Figure size 432x288 with 1 Axes>"
      ]
     },
     "metadata": {
      "needs_background": "light"
     },
     "output_type": "display_data"
    }
   ],
   "source": [
    "plt.scatter(data['flight duration'],data['Delay'])\n",
    "plt.title('Delay vs Flight duration')\n",
    "plt.ylabel('Delay')\n",
    "plt.xlabel('Flight Duration')"
   ]
  },
  {
   "cell_type": "code",
   "execution_count": 35,
   "id": "eb824c70",
   "metadata": {},
   "outputs": [],
   "source": [
    "from sklearn.decomposition import PCA"
   ]
  },
  {
   "cell_type": "code",
   "execution_count": 36,
   "id": "f6905d35",
   "metadata": {},
   "outputs": [],
   "source": [
    "pca = PCA(n_components=2)"
   ]
  },
  {
   "cell_type": "code",
   "execution_count": 37,
   "id": "01850657",
   "metadata": {},
   "outputs": [
    {
     "data": {
      "text/plain": [
       "PCA(n_components=2)"
      ]
     },
     "execution_count": 37,
     "metadata": {},
     "output_type": "execute_result"
    }
   ],
   "source": [
    "pca.fit(X)"
   ]
  },
  {
   "cell_type": "code",
   "execution_count": 38,
   "id": "12844143",
   "metadata": {},
   "outputs": [],
   "source": [
    "data_pca=pca.transform(X)"
   ]
  },
  {
   "cell_type": "code",
   "execution_count": 39,
   "id": "958c1b38",
   "metadata": {},
   "outputs": [
    {
     "data": {
      "text/plain": [
       "array([[ 578.02764348, -157.78756733],\n",
       "       [ 438.74441105, -144.6640356 ],\n",
       "       [ 563.58736752, -154.22231596],\n",
       "       ...,\n",
       "       [ -90.22478395,  214.31123622],\n",
       "       [   7.69679595,   22.71156019],\n",
       "       [ 136.48322577, -104.50998708]])"
      ]
     },
     "execution_count": 39,
     "metadata": {},
     "output_type": "execute_result"
    }
   ],
   "source": [
    "data_pca"
   ]
  },
  {
   "cell_type": "code",
   "execution_count": null,
   "id": "b2f84557",
   "metadata": {},
   "outputs": [],
   "source": []
  },
  {
   "cell_type": "code",
   "execution_count": null,
   "id": "610e511d",
   "metadata": {},
   "outputs": [],
   "source": []
  },
  {
   "cell_type": "code",
   "execution_count": 41,
   "id": "37eb06e9",
   "metadata": {},
   "outputs": [
    {
     "data": {
      "image/png": "[encoded data removed]",
      "text/plain": [
       "<Figure size 432x288 with 1 Axes>"
      ]
     },
     "metadata": {
      "needs_background": "light"
     },
     "output_type": "display_data"
    }
   ],
   "source": [
    "fig = plt.figure()\n",
    "ax = fig.add_subplot(111, projection='3d')\n",
    "ax.scatter(data_pca[:, 0],data['Delay'],data_pca[:,1])\n",
    "plt.title('Dataset after PCA')\n",
    "\n",
    "plt.show()"
   ]
  },
  {
   "cell_type": "markdown",
   "id": "86fbb1cc",
   "metadata": {},
   "source": [
    "# Split Data"
   ]
  },
  {
   "cell_type": "code",
   "execution_count": 41,
   "id": "63d877f9",
   "metadata": {},
   "outputs": [],
   "source": [
    "test_data=data"
   ]
  },
  {
   "cell_type": "code",
   "execution_count": 42,
   "id": "e00ce6d3",
   "metadata": {},
   "outputs": [],
   "source": [
    "data=data.drop(data[data.years.astype(int)>2017].index)"
   ]
  },
  {
   "cell_type": "code",
   "execution_count": null,
   "id": "0b99a270",
   "metadata": {},
   "outputs": [],
   "source": []
  },
  {
   "cell_type": "code",
   "execution_count": 43,
   "id": "d040517f",
   "metadata": {},
   "outputs": [],
   "source": [
    "test_data=test_data.drop(test_data[test_data.years.astype(int)<=2017].index)"
   ]
  },
  {
   "cell_type": "code",
   "execution_count": 44,
   "id": "f83ee25a",
   "metadata": {},
   "outputs": [
    {
     "data": {
      "text/html": [
       "<div>\n",
       "<style scoped>\n",
       "    .dataframe tbody tr th:only-of-type {\n",
       "        vertical-align: middle;\n",
       "    }\n",
       "\n",
       "    .dataframe tbody tr th {\n",
       "        vertical-align: top;\n",
       "    }\n",
       "\n",
       "    .dataframe thead th {\n",
       "        text-align: right;\n",
       "    }\n",
       "</style>\n",
       "<table border=\"1\" class=\"dataframe\">\n",
       "  <thead>\n",
       "    <tr style=\"text-align: right;\">\n",
       "      <th></th>\n",
       "      <th>Depature Airport</th>\n",
       "      <th>Destination Airport</th>\n",
       "      <th>Delay</th>\n",
       "      <th>way</th>\n",
       "      <th>flight duration</th>\n",
       "      <th>day of week</th>\n",
       "      <th>daytime</th>\n",
       "      <th>season</th>\n",
       "    </tr>\n",
       "  </thead>\n",
       "  <tbody>\n",
       "    <tr>\n",
       "      <th>Depature Airport</th>\n",
       "      <td>1.000000</td>\n",
       "      <td>-0.493830</td>\n",
       "      <td>0.042693</td>\n",
       "      <td>0.561410</td>\n",
       "      <td>0.152706</td>\n",
       "      <td>0.001274</td>\n",
       "      <td>-0.160059</td>\n",
       "      <td>0.009254</td>\n",
       "    </tr>\n",
       "    <tr>\n",
       "      <th>Destination Airport</th>\n",
       "      <td>-0.493830</td>\n",
       "      <td>1.000000</td>\n",
       "      <td>-0.010415</td>\n",
       "      <td>0.152348</td>\n",
       "      <td>0.143421</td>\n",
       "      <td>0.002981</td>\n",
       "      <td>0.039155</td>\n",
       "      <td>0.009767</td>\n",
       "    </tr>\n",
       "    <tr>\n",
       "      <th>Delay</th>\n",
       "      <td>0.042693</td>\n",
       "      <td>-0.010415</td>\n",
       "      <td>1.000000</td>\n",
       "      <td>0.029552</td>\n",
       "      <td>0.043671</td>\n",
       "      <td>0.005237</td>\n",
       "      <td>-0.021983</td>\n",
       "      <td>-0.027962</td>\n",
       "    </tr>\n",
       "    <tr>\n",
       "      <th>way</th>\n",
       "      <td>0.561410</td>\n",
       "      <td>0.152348</td>\n",
       "      <td>0.029552</td>\n",
       "      <td>1.000000</td>\n",
       "      <td>0.085641</td>\n",
       "      <td>0.003219</td>\n",
       "      <td>-0.133557</td>\n",
       "      <td>0.026832</td>\n",
       "    </tr>\n",
       "    <tr>\n",
       "      <th>flight duration</th>\n",
       "      <td>0.152706</td>\n",
       "      <td>0.143421</td>\n",
       "      <td>0.043671</td>\n",
       "      <td>0.085641</td>\n",
       "      <td>1.000000</td>\n",
       "      <td>0.003986</td>\n",
       "      <td>-0.023129</td>\n",
       "      <td>-0.005308</td>\n",
       "    </tr>\n",
       "    <tr>\n",
       "      <th>day of week</th>\n",
       "      <td>0.001274</td>\n",
       "      <td>0.002981</td>\n",
       "      <td>0.005237</td>\n",
       "      <td>0.003219</td>\n",
       "      <td>0.003986</td>\n",
       "      <td>1.000000</td>\n",
       "      <td>-0.000248</td>\n",
       "      <td>-0.003695</td>\n",
       "    </tr>\n",
       "    <tr>\n",
       "      <th>daytime</th>\n",
       "      <td>-0.160059</td>\n",
       "      <td>0.039155</td>\n",
       "      <td>-0.021983</td>\n",
       "      <td>-0.133557</td>\n",
       "      <td>-0.023129</td>\n",
       "      <td>-0.000248</td>\n",
       "      <td>1.000000</td>\n",
       "      <td>0.001842</td>\n",
       "    </tr>\n",
       "    <tr>\n",
       "      <th>season</th>\n",
       "      <td>0.009254</td>\n",
       "      <td>0.009767</td>\n",
       "      <td>-0.027962</td>\n",
       "      <td>0.026832</td>\n",
       "      <td>-0.005308</td>\n",
       "      <td>-0.003695</td>\n",
       "      <td>0.001842</td>\n",
       "      <td>1.000000</td>\n",
       "    </tr>\n",
       "  </tbody>\n",
       "</table>\n",
       "</div>"
      ],
      "text/plain": [
       "                     Depature Airport  Destination Airport     Delay  \\\n",
       "Depature Airport             1.000000            -0.493830  0.042693   \n",
       "Destination Airport         -0.493830             1.000000 -0.010415   \n",
       "Delay                        0.042693            -0.010415  1.000000   \n",
       "way                          0.561410             0.152348  0.029552   \n",
       "flight duration              0.152706             0.143421  0.043671   \n",
       "day of week                  0.001274             0.002981  0.005237   \n",
       "daytime                     -0.160059             0.039155 -0.021983   \n",
       "season                       0.009254             0.009767 -0.027962   \n",
       "\n",
       "                          way  flight duration  day of week   daytime  \\\n",
       "Depature Airport     0.561410         0.152706     0.001274 -0.160059   \n",
       "Destination Airport  0.152348         0.143421     0.002981  0.039155   \n",
       "Delay                0.029552         0.043671     0.005237 -0.021983   \n",
       "way                  1.000000         0.085641     0.003219 -0.133557   \n",
       "flight duration      0.085641         1.000000     0.003986 -0.023129   \n",
       "day of week          0.003219         0.003986     1.000000 -0.000248   \n",
       "daytime             -0.133557        -0.023129    -0.000248  1.000000   \n",
       "season               0.026832        -0.005308    -0.003695  0.001842   \n",
       "\n",
       "                       season  \n",
       "Depature Airport     0.009254  \n",
       "Destination Airport  0.009767  \n",
       "Delay               -0.027962  \n",
       "way                  0.026832  \n",
       "flight duration     -0.005308  \n",
       "day of week         -0.003695  \n",
       "daytime              0.001842  \n",
       "season               1.000000  "
      ]
     },
     "execution_count": 44,
     "metadata": {},
     "output_type": "execute_result"
    }
   ],
   "source": [
    "data.corr()"
   ]
  },
  {
   "cell_type": "markdown",
   "id": "05f74940",
   "metadata": {},
   "source": [
    "# Outliers\n"
   ]
  },
  {
   "cell_type": "code",
   "execution_count": 45,
   "id": "340d2154",
   "metadata": {},
   "outputs": [],
   "source": [
    "delay=data['Delay']"
   ]
  },
  {
   "cell_type": "code",
   "execution_count": 46,
   "id": "5aeed117",
   "metadata": {},
   "outputs": [],
   "source": [
    "mean=np.mean(delay)\n"
   ]
  },
  {
   "cell_type": "code",
   "execution_count": 47,
   "id": "637fbf4c",
   "metadata": {},
   "outputs": [],
   "source": [
    "std=np.std(delay)\n"
   ]
  },
  {
   "cell_type": "code",
   "execution_count": null,
   "id": "e8329292",
   "metadata": {},
   "outputs": [],
   "source": []
  },
  {
   "cell_type": "code",
   "execution_count": 48,
   "id": "5d51bedc",
   "metadata": {},
   "outputs": [],
   "source": [
    "threshold = 2\n",
    "outliers = []\n",
    "out=[]\n",
    "for i in delay:\n",
    "    \n",
    "    z = (i-mean)/std\n",
    "    if z > threshold:\n",
    "        outliers.append(99999)\n",
    "        out.append(i)\n",
    "    else:\n",
    "        outliers.append(i)\n",
    "\n"
   ]
  },
  {
   "cell_type": "code",
   "execution_count": 49,
   "id": "0e02147c",
   "metadata": {},
   "outputs": [],
   "source": [
    "data['outliers']=pd.DataFrame(outliers)"
   ]
  },
  {
   "cell_type": "code",
   "execution_count": 50,
   "id": "0b30b37c",
   "metadata": {},
   "outputs": [],
   "source": [
    "#data['outliers'].isnull().sum() # Output is '3'"
   ]
  },
  {
   "cell_type": "markdown",
   "id": "4b95a66f",
   "metadata": {},
   "source": [
    "# Remove outliers"
   ]
  },
  {
   "cell_type": "code",
   "execution_count": 51,
   "id": "623a692a",
   "metadata": {},
   "outputs": [],
   "source": [
    "data=data.drop(data[data.outliers==99999].index)"
   ]
  },
  {
   "cell_type": "code",
   "execution_count": 52,
   "id": "a95e682f",
   "metadata": {},
   "outputs": [],
   "source": [
    "#data['outliers'].isnull().sum() # Output is still '3'"
   ]
  },
  {
   "cell_type": "code",
   "execution_count": 53,
   "id": "c3416ba5",
   "metadata": {},
   "outputs": [],
   "source": [
    "# data.tail() # last 3 rows with Nan in data['outliers']"
   ]
  },
  {
   "cell_type": "code",
   "execution_count": 54,
   "id": "dffeef0b",
   "metadata": {},
   "outputs": [],
   "source": [
    "data=data.drop([499164,499168,499535])"
   ]
  },
  {
   "cell_type": "code",
   "execution_count": null,
   "id": "d90a5a7b",
   "metadata": {},
   "outputs": [],
   "source": []
  },
  {
   "cell_type": "code",
   "execution_count": 55,
   "id": "19e6128c",
   "metadata": {},
   "outputs": [],
   "source": [
    "#data['outliers'].isnull().sum() # Output is '0'"
   ]
  },
  {
   "cell_type": "code",
   "execution_count": 56,
   "id": "7b80e792",
   "metadata": {},
   "outputs": [],
   "source": [
    "data=data.drop(['outliers'],axis=1)"
   ]
  },
  {
   "cell_type": "code",
   "execution_count": null,
   "id": "84c48fd1",
   "metadata": {},
   "outputs": [],
   "source": []
  },
  {
   "cell_type": "markdown",
   "id": "0786c362",
   "metadata": {},
   "source": [
    "# train data and test data"
   ]
  },
  {
   "cell_type": "code",
   "execution_count": 57,
   "id": "6b69a007",
   "metadata": {},
   "outputs": [],
   "source": [
    "y_train=data['Delay']"
   ]
  },
  {
   "cell_type": "code",
   "execution_count": 58,
   "id": "511805bd",
   "metadata": {},
   "outputs": [],
   "source": [
    "data=data.drop(['Delay','years'],axis=1)"
   ]
  },
  {
   "cell_type": "code",
   "execution_count": 59,
   "id": "ccf0fbed",
   "metadata": {},
   "outputs": [],
   "source": [
    "y_test=test_data['Delay']"
   ]
  },
  {
   "cell_type": "code",
   "execution_count": 60,
   "id": "5b82f520",
   "metadata": {},
   "outputs": [],
   "source": [
    "X_test=test_data.drop(['Delay','years'],axis=1)"
   ]
  },
  {
   "cell_type": "markdown",
   "id": "7a6efb34",
   "metadata": {},
   "source": [
    "# Linear regression"
   ]
  },
  {
   "cell_type": "code",
   "execution_count": 61,
   "id": "34f56141",
   "metadata": {},
   "outputs": [],
   "source": [
    "regression=LinearRegression()"
   ]
  },
  {
   "cell_type": "code",
   "execution_count": 68,
   "id": "2ecccc22",
   "metadata": {},
   "outputs": [],
   "source": [
    "lin_reg=regression.fit(data,y_train)"
   ]
  },
  {
   "cell_type": "code",
   "execution_count": 69,
   "id": "72180553",
   "metadata": {},
   "outputs": [],
   "source": [
    "lin_reg_pred=lin_reg.predict(X_test)"
   ]
  },
  {
   "cell_type": "code",
   "execution_count": 70,
   "id": "4f73564c",
   "metadata": {},
   "outputs": [
    {
     "name": "stdout",
     "output_type": "stream",
     "text": [
      "Mean Absolute Error: 10.753394059183634\n",
      "Mean Squared Error: 1594.5397470873058\n",
      "Root Mean Squared Error: 39.93168850784181\n"
     ]
    }
   ],
   "source": [
    "print('Mean Absolute Error:', metrics.mean_absolute_error(y_test, lin_reg_pred))\n",
    "print('Mean Squared Error:', metrics.mean_squared_error(y_test, lin_reg_pred))\n",
    "print('Root Mean Squared Error:', np.sqrt(metrics.mean_squared_error(y_test, lin_reg_pred)))"
   ]
  },
  {
   "cell_type": "markdown",
   "id": "5465c2b9",
   "metadata": {},
   "source": [
    "# Polynomial regression"
   ]
  },
  {
   "cell_type": "code",
   "execution_count": 71,
   "id": "7f77950d",
   "metadata": {},
   "outputs": [
    {
     "name": "stdout",
     "output_type": "stream",
     "text": [
      "Degree 1\n",
      "MAE = 8.160720393087427 STD:  0.3037186064370316\n",
      "Degree 1\n",
      "MSE = 188.43714055896587 STD:  21.539543431694486\n",
      "Degree 1\n",
      "RMSE = 13.704562371658652 STD:  0.7887399826835658\n",
      "Degree 2\n",
      "MAE = 8.127871331663332 STD:  0.4137275371868178\n",
      "Degree 2\n",
      "MSE = 188.06931042652974 STD:  21.355570455334583\n",
      "Degree 2\n",
      "RMSE = 13.691325910673653 STD:  0.7854331507175044\n",
      "Degree 3\n",
      "MAE = 8.075786296119539 STD:  0.6289932334657743\n",
      "Degree 3\n",
      "MSE = 186.52358078636422 STD:  22.2496043664491\n",
      "Degree 3\n",
      "RMSE = 13.6324233376201 STD:  0.8249937759008048\n"
     ]
    }
   ],
   "source": [
    "#train data\n",
    "degrees = [1, 2, 3]\n",
    "\n",
    "for i in degrees:\n",
    "\n",
    "    poly_feat = PolynomialFeatures(degree=i)\n",
    "    lin_reg = LinearRegression()\n",
    "    pipeline = Pipeline([(\"polynomial_features\", poly_feat),\n",
    "                         (\"linear_regression\", lin_reg)])\n",
    "    pipeline.fit(data, y_train)\n",
    "\n",
    "    \n",
    "    scores_mae = cross_val_score(pipeline, data, y_train, scoring=\"neg_mean_absolute_error\", cv=8)\n",
    "    scores_mse = cross_val_score(pipeline, data, y_train, scoring=\"neg_mean_squared_error\", cv=8)\n",
    "    scores_rmse = cross_val_score(pipeline, data, y_train, scoring=\"neg_root_mean_squared_error\", cv=8)\n",
    "    \n",
    "    \n",
    "\n",
    "    print(\"Degree {}\\nMAE = {}\".format(i, -scores_mae.mean()),'STD: ', scores_mae.std())\n",
    "    print(\"Degree {}\\nMSE = {}\".format(i, -scores_mse.mean()),'STD: ', scores_mse.std())\n",
    "    print(\"Degree {}\\nRMSE = {}\".format(i, -scores_rmse.mean()),'STD: ', scores_rmse.std())"
   ]
  },
  {
   "cell_type": "code",
   "execution_count": 72,
   "id": "08cf09e9",
   "metadata": {},
   "outputs": [
    {
     "name": "stdout",
     "output_type": "stream",
     "text": [
      "Degree 1\n",
      "MAE = 10.000941364268247 STD:  4.4223592464417125\n",
      "Degree 1\n",
      "MSE = 1594.9134169259473 STD:  1014.5757438578436\n",
      "Degree 1\n",
      "RMSE = 38.096068188644345 STD:  11.983447145629984\n",
      "Degree 2\n",
      "MAE = 9.746905233322206 STD:  4.216758491050873\n",
      "Degree 2\n",
      "MSE = 1585.8979089938828 STD:  1006.4521159461652\n",
      "Degree 2\n",
      "RMSE = 37.99162075788349 STD:  11.938788095239802\n",
      "Degree 3\n",
      "MAE = 10.353361966135079 STD:  3.769513784495682\n",
      "Degree 3\n",
      "MSE = 2856.23698370335 STD:  2359.6016037816344\n",
      "Degree 3\n",
      "RMSE = 49.16393167838499 STD:  20.95578215258123\n"
     ]
    }
   ],
   "source": [
    "#test data\n",
    "degrees = [1, 2, 3]\n",
    "\n",
    "for i in degrees:\n",
    "\n",
    "    poly_feat = PolynomialFeatures(degree=i)\n",
    "    lin_reg = LinearRegression()\n",
    "    pipeline = Pipeline([(\"polynomial_features\", poly_feat),\n",
    "                         (\"linear_regression\", lin_reg)])\n",
    "    pipeline.fit(data, y_train)\n",
    "\n",
    "    \n",
    "    scores_mae = cross_val_score(pipeline, X_test, y_test, scoring=\"neg_mean_absolute_error\", cv=5)\n",
    "    scores_mse = cross_val_score(pipeline, X_test, y_test, scoring=\"neg_mean_squared_error\", cv=5)\n",
    "    scores_rmse = cross_val_score(pipeline, X_test, y_test, scoring=\"neg_root_mean_squared_error\", cv=5)\n",
    "    \n",
    "    \n",
    "\n",
    "    print(\"Degree {}\\nMAE = {}\".format(i, -scores_mae.mean()),'STD: ', scores_mae.std())\n",
    "    print(\"Degree {}\\nMSE = {}\".format(i, -scores_mse.mean()),'STD: ', scores_mse.std())\n",
    "    print(\"Degree {}\\nRMSE = {}\".format(i, -scores_rmse.mean()),'STD: ', scores_rmse.std())"
   ]
  },
  {
   "cell_type": "markdown",
   "id": "fc26250a",
   "metadata": {},
   "source": [
    "# Lasso"
   ]
  },
  {
   "cell_type": "code",
   "execution_count": null,
   "id": "e0631c69",
   "metadata": {},
   "outputs": [],
   "source": []
  },
  {
   "cell_type": "code",
   "execution_count": null,
   "id": "7a12b0cd",
   "metadata": {},
   "outputs": [],
   "source": []
  },
  {
   "cell_type": "code",
   "execution_count": 73,
   "id": "c10a0dcf",
   "metadata": {},
   "outputs": [],
   "source": [
    "alphas=[]\n",
    "for i in range(15):\n",
    "    alphas.append(1000/(10**i))\n"
   ]
  },
  {
   "cell_type": "code",
   "execution_count": 74,
   "id": "6300ba86",
   "metadata": {},
   "outputs": [
    {
     "name": "stdout",
     "output_type": "stream",
     "text": [
      "Best value of alpha: 1.0 \n",
      "MAE=  10.672704685052896 \n",
      "MSE=  1596.9486905658903 \n",
      "RMSE=  39.961840430164\n"
     ]
    }
   ],
   "source": [
    "MAE_list=[]\n",
    "MSE_list=[]\n",
    "RMSE_list=[]\n",
    "\n",
    "for i in alphas:\n",
    "    lasso = Lasso(alpha=i)\n",
    "    lasso.fit(data, y_train)\n",
    "    prediction = lasso.predict(X_test)\n",
    "    \n",
    "    mae = metrics.mean_absolute_error(y_test, prediction)\n",
    "    mse = metrics.mean_squared_error(y_test, prediction)\n",
    "    rmse = math.sqrt(metrics.mean_squared_error(y_test, prediction))\n",
    "    \n",
    "    MAE_list.append(mae)\n",
    "    MSE_list.append(mse)\n",
    "    RMSE_list.append(rmse)\n",
    "    \n",
    "best_alpha_mae = alphas[np.argmin(MAE_list)]\n",
    "min_arg_mae=min(MAE_list)\n",
    "\n",
    "index=alphas.index(best_alpha_mae)\n",
    "\n",
    "min_arg_mse=MSE_list[index]\n",
    "min_arg_rmse=RMSE_list[index]\n",
    "\n",
    "print(\"Best value of alpha:\", best_alpha_mae,'\\nMAE= ',min_arg_mae,\n",
    "      '\\nMSE= ',min_arg_mse,'\\nRMSE= ',min_arg_rmse)\n"
   ]
  },
  {
   "cell_type": "markdown",
   "id": "5256d1b1",
   "metadata": {},
   "source": [
    "# Ridge"
   ]
  },
  {
   "cell_type": "code",
   "execution_count": 75,
   "id": "cf6e9bb9",
   "metadata": {
    "scrolled": false
   },
   "outputs": [
    {
     "name": "stdout",
     "output_type": "stream",
     "text": [
      "Best value of alpha: 1000.0 \n",
      "MAE=  10.753234229906793 \n",
      "MSE=  1594.5416141706366 \n",
      "RMSE=  39.931711886302054\n"
     ]
    }
   ],
   "source": [
    "MAE_list=[]\n",
    "MSE_list=[]\n",
    "RMSE_list=[]\n",
    "for i in alphas:\n",
    "    lasso = Ridge(alpha=i)\n",
    "    lasso.fit(data, y_train)\n",
    "    prediction = lasso.predict(X_test)\n",
    "    mae = metrics.mean_absolute_error(y_test, prediction)\n",
    "    mse = metrics.mean_squared_error(y_test, prediction)\n",
    "    rmse = math.sqrt(metrics.mean_squared_error(y_test, prediction))\n",
    "    \n",
    "    MAE_list.append(mae)\n",
    "    MSE_list.append(mse)\n",
    "    RMSE_list.append(rmse)\n",
    "\n",
    "\n",
    "best_alpha_mae = alphas[np.argmin(MAE_list)]\n",
    "min_arg_mae=min(MAE_list)\n",
    "\n",
    "index=alphas.index(best_alpha_mae)\n",
    "\n",
    "min_arg_mse=MSE_list[index]\n",
    "min_arg_rmse=RMSE_list[index]\n",
    "\n",
    "print(\"Best value of alpha:\", best_alpha_mae,'\\nMAE= ',min_arg_mae,\n",
    "      '\\nMSE= ',min_arg_mse,'\\nRMSE= ',min_arg_rmse)"
   ]
  },
  {
   "cell_type": "code",
   "execution_count": null,
   "id": "17088236",
   "metadata": {},
   "outputs": [],
   "source": []
  },
  {
   "cell_type": "code",
   "execution_count": null,
   "id": "842c8158",
   "metadata": {},
   "outputs": [],
   "source": []
  },
  {
   "cell_type": "code",
   "execution_count": null,
   "id": "9b51a9b2",
   "metadata": {},
   "outputs": [],
   "source": []
  },
  {
   "cell_type": "code",
   "execution_count": null,
   "id": "6cac28d4",
   "metadata": {},
   "outputs": [],
   "source": []
  },
  {
   "cell_type": "code",
   "execution_count": null,
   "id": "f39d3a3b",
   "metadata": {},
   "outputs": [],
   "source": []
  },
  {
   "cell_type": "code",
   "execution_count": null,
   "id": "60dd0328",
   "metadata": {},
   "outputs": [],
   "source": []
  },
  {
   "cell_type": "code",
   "execution_count": null,
   "id": "1e7396ea",
   "metadata": {},
   "outputs": [],
   "source": []
  },
  {
   "cell_type": "code",
   "execution_count": null,
   "id": "acb9b5ef",
   "metadata": {},
   "outputs": [],
   "source": []
  }
 ],
 "metadata": {
  "kernelspec": {
   "display_name": "Python 3 (ipykernel)",
   "language": "python",
   "name": "python3"
  },
  "language_info": {
   "codemirror_mode": {
    "name": "ipython",
    "version": 3
   },
   "file_extension": ".py",
   "mimetype": "text/x-python",
   "name": "python",
   "nbconvert_exporter": "python",
   "pygments_lexer": "ipython3",
   "version": "3.9.6"
  }
 },
 "nbformat": 4,
 "nbformat_minor": 5
}
